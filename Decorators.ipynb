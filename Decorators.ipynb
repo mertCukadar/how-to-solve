{
 "cells": [
  {
   "cell_type": "markdown",
   "metadata": {},
   "source": [
    "# Decorators-2 Name Directory\n",
    "\n",
    "Problem from [Here](https://www.hackerrank.com/challenges/decorators-2-name-directory/problem)"
   ]
  },
  {
   "cell_type": "markdown",
   "metadata": {},
   "source": [
    "Let's use decorators to build a name directory! You are given some information about $N$ people Each people has a;\n",
    "- First Name\n",
    "- Last Name\n",
    "- Age\n",
    "- Sex\n",
    "Print Their names in spesific format sorted by their age in ascending order i.e. the youngest peoples's name should be printed first.For two people of the same age, print them in the order of their input."
   ]
  },
  {
   "cell_type": "markdown",
   "metadata": {},
   "source": [
    "## Expected Output\n",
    "For Hanry Davis output should be; \n",
    "```\n",
    "Output: Mr. Hanry Davis\n",
    "```\n",
    "\n"
   ]
  },
  {
   "cell_type": "markdown",
   "metadata": {},
   "source": [
    "## Input Type: \n",
    "The First line contains the integer $N$, the number of perople.\n",
    "\n",
    "$N$ lines follow each containing the space separated values of the first name, last name, age and sex, respectively.\n",
    "\n",
    "__Constrains:__\n",
    "\n",
    "$$0 \\leq N \\leq 10$$"
   ]
  },
  {
   "cell_type": "markdown",
   "metadata": {},
   "source": [
    "__Concept__\n",
    "For sorting a nested list based on some parameter, you can use the itemgetter library. You can read more about it here. \n"
   ]
  },
  {
   "cell_type": "markdown",
   "metadata": {},
   "source": [
    "## Solutıon"
   ]
  },
  {
   "cell_type": "markdown",
   "metadata": {},
   "source": [
    "What ı Would like to approach is simple user's give to a function values then in inner function we will reach outter function's values by this way we can use __closures__. Lets write a function for ouuter which contains every input's from users. "
   ]
  },
  {
   "cell_type": "markdown",
   "metadata": {},
   "source": [
    "__Bu noktadan sonrası tamemen deneysel olarak pratik olmaso adına yazılmıştır çözümle bir ilişkisi bulunmamaktadır__ \n",
    "\n",
    "---"
   ]
  },
  {
   "cell_type": "code",
   "execution_count": 142,
   "metadata": {},
   "outputs": [],
   "source": [
    "## add every possible librarys by import\n",
    "\n",
    "import numpy as np\n",
    "import pandas as pd"
   ]
  },
  {
   "cell_type": "code",
   "execution_count": 143,
   "metadata": {},
   "outputs": [],
   "source": [
    "from distutils.log import info\n",
    "\n",
    "\n",
    "def outter_fun(**information): ##to use Kwargs we need to specify with \"**\"\n",
    "    print(information)\n",
    "    outter_values = information\n",
    "    return outter_values\n"
   ]
  },
  {
   "cell_type": "code",
   "execution_count": 144,
   "metadata": {},
   "outputs": [
    {
     "name": "stdout",
     "output_type": "stream",
     "text": [
      "{'Name': 'Mert', 'last_Name': 'Çukadar', 'age': 10, 'sex': 'M'}\n"
     ]
    },
    {
     "data": {
      "text/plain": [
       "{'Name': 'Mert', 'last_Name': 'Çukadar', 'age': 10, 'sex': 'M'}"
      ]
     },
     "execution_count": 144,
     "metadata": {},
     "output_type": "execute_result"
    }
   ],
   "source": [
    "dict1 = {\"Name\":\"Mert\",\"last_Name\":\"Çukadar\",\"age\":10,\"sex\":\"M\",}\n",
    "outter_fun(**dict1)"
   ]
  },
  {
   "cell_type": "code",
   "execution_count": 145,
   "metadata": {},
   "outputs": [],
   "source": [
    "## let us prepare our datas\n",
    "df = pd.DataFrame() "
   ]
  },
  {
   "cell_type": "code",
   "execution_count": 146,
   "metadata": {},
   "outputs": [
    {
     "name": "stdout",
     "output_type": "stream",
     "text": [
      "   Name last_Name  age sex\n",
      "0  Mert   Çukadar   10   M\n"
     ]
    },
    {
     "name": "stderr",
     "output_type": "stream",
     "text": [
      "/var/folders/1r/pznw71wj7zj5fq__d4pwq6th0000gn/T/ipykernel_51345/2152396972.py:1: FutureWarning: The frame.append method is deprecated and will be removed from pandas in a future version. Use pandas.concat instead.\n",
      "  df = df.append(dict,ignore_index=True)\n"
     ]
    }
   ],
   "source": [
    "df = df.append(dict,ignore_index=True)\n",
    "print(df.head())"
   ]
  },
  {
   "cell_type": "code",
   "execution_count": 147,
   "metadata": {},
   "outputs": [],
   "source": [
    "dict2 = {\"Name\":\"Zeynep\",\"last_Name\":\"Taşkın\",\"age\":16,\"sex\":\"F\",}\n",
    "dict3 = {\"Name\":\"Drumuş\",\"last_Name\":\"Paragöz\",\"age\":19,\"sex\":\"M\",}\n",
    "dict4 = {\"Name\":\"Kan\",\"last_Name\":\"Küstah\",\"age\":49,\"sex\":\"F\",}\n",
    "dict5 = {\"Name\":\"Ceren\",\"last_Name\":\"Dinç\",\"age\":26,\"sex\":\"F\",}\n",
    "dict6 = {\"Name\":\"Mert Kaan\",\"last_Name\":\"Çukadar\",\"age\":22,\"sex\":\"F\",}\n",
    "dict7 = {\"Name\":\"Herhangi\",\"last_Name\":\"biri\",\"age\":21,\"sex\":\"M\",}\n",
    "dict8 = {\"Name\":\"Can\",\"last_Name\":\"Balamir\",\"age\":12,\"sex\":\"F\",}\n",
    "\n",
    "\n",
    "globdict = {\"dict1\":dict1 , \"dict2\" : dict2 , \"dict3\": dict3 , \"dict4\" : dict4 , \"dict5\" : dict5, \"dict6\":dict6 , \"dict7\" : dict7 , \"dict8\" : dict8} \n",
    "\n",
    "\n"
   ]
  },
  {
   "cell_type": "code",
   "execution_count": 148,
   "metadata": {},
   "outputs": [
    {
     "name": "stderr",
     "output_type": "stream",
     "text": [
      "/var/folders/1r/pznw71wj7zj5fq__d4pwq6th0000gn/T/ipykernel_51345/3897221174.py:6: FutureWarning: The frame.append method is deprecated and will be removed from pandas in a future version. Use pandas.concat instead.\n",
      "  df = df.append(globdict[list],ignore_index=True)\n",
      "/var/folders/1r/pznw71wj7zj5fq__d4pwq6th0000gn/T/ipykernel_51345/3897221174.py:6: FutureWarning: The frame.append method is deprecated and will be removed from pandas in a future version. Use pandas.concat instead.\n",
      "  df = df.append(globdict[list],ignore_index=True)\n",
      "/var/folders/1r/pznw71wj7zj5fq__d4pwq6th0000gn/T/ipykernel_51345/3897221174.py:6: FutureWarning: The frame.append method is deprecated and will be removed from pandas in a future version. Use pandas.concat instead.\n",
      "  df = df.append(globdict[list],ignore_index=True)\n",
      "/var/folders/1r/pznw71wj7zj5fq__d4pwq6th0000gn/T/ipykernel_51345/3897221174.py:6: FutureWarning: The frame.append method is deprecated and will be removed from pandas in a future version. Use pandas.concat instead.\n",
      "  df = df.append(globdict[list],ignore_index=True)\n",
      "/var/folders/1r/pznw71wj7zj5fq__d4pwq6th0000gn/T/ipykernel_51345/3897221174.py:6: FutureWarning: The frame.append method is deprecated and will be removed from pandas in a future version. Use pandas.concat instead.\n",
      "  df = df.append(globdict[list],ignore_index=True)\n",
      "/var/folders/1r/pznw71wj7zj5fq__d4pwq6th0000gn/T/ipykernel_51345/3897221174.py:6: FutureWarning: The frame.append method is deprecated and will be removed from pandas in a future version. Use pandas.concat instead.\n",
      "  df = df.append(globdict[list],ignore_index=True)\n"
     ]
    },
    {
     "data": {
      "text/html": [
       "<div>\n",
       "<style scoped>\n",
       "    .dataframe tbody tr th:only-of-type {\n",
       "        vertical-align: middle;\n",
       "    }\n",
       "\n",
       "    .dataframe tbody tr th {\n",
       "        vertical-align: top;\n",
       "    }\n",
       "\n",
       "    .dataframe thead th {\n",
       "        text-align: right;\n",
       "    }\n",
       "</style>\n",
       "<table border=\"1\" class=\"dataframe\">\n",
       "  <thead>\n",
       "    <tr style=\"text-align: right;\">\n",
       "      <th></th>\n",
       "      <th>Name</th>\n",
       "      <th>last_Name</th>\n",
       "      <th>age</th>\n",
       "      <th>sex</th>\n",
       "    </tr>\n",
       "  </thead>\n",
       "  <tbody>\n",
       "    <tr>\n",
       "      <th>0</th>\n",
       "      <td>Mert</td>\n",
       "      <td>Çukadar</td>\n",
       "      <td>10</td>\n",
       "      <td>M</td>\n",
       "    </tr>\n",
       "    <tr>\n",
       "      <th>1</th>\n",
       "      <td>Zeynep</td>\n",
       "      <td>Taşkın</td>\n",
       "      <td>16</td>\n",
       "      <td>F</td>\n",
       "    </tr>\n",
       "    <tr>\n",
       "      <th>2</th>\n",
       "      <td>Drumuş</td>\n",
       "      <td>Paragöz</td>\n",
       "      <td>19</td>\n",
       "      <td>M</td>\n",
       "    </tr>\n",
       "    <tr>\n",
       "      <th>3</th>\n",
       "      <td>Kan</td>\n",
       "      <td>Küstah</td>\n",
       "      <td>49</td>\n",
       "      <td>F</td>\n",
       "    </tr>\n",
       "    <tr>\n",
       "      <th>4</th>\n",
       "      <td>Ceren</td>\n",
       "      <td>Dinç</td>\n",
       "      <td>26</td>\n",
       "      <td>F</td>\n",
       "    </tr>\n",
       "    <tr>\n",
       "      <th>5</th>\n",
       "      <td>Mert Kaan</td>\n",
       "      <td>Çukadar</td>\n",
       "      <td>22</td>\n",
       "      <td>F</td>\n",
       "    </tr>\n",
       "    <tr>\n",
       "      <th>6</th>\n",
       "      <td>Herhangi</td>\n",
       "      <td>biri</td>\n",
       "      <td>21</td>\n",
       "      <td>M</td>\n",
       "    </tr>\n",
       "  </tbody>\n",
       "</table>\n",
       "</div>"
      ],
      "text/plain": [
       "        Name last_Name  age sex\n",
       "0       Mert   Çukadar   10   M\n",
       "1     Zeynep    Taşkın   16   F\n",
       "2     Drumuş   Paragöz   19   M\n",
       "3        Kan    Küstah   49   F\n",
       "4      Ceren      Dinç   26   F\n",
       "5  Mert Kaan   Çukadar   22   F\n",
       "6   Herhangi      biri   21   M"
      ]
     },
     "execution_count": 148,
     "metadata": {},
     "output_type": "execute_result"
    }
   ],
   "source": [
    "import string\n",
    "\n",
    "\n",
    "for i in range(2,8):\n",
    "    list = \"dict\" + f\"{i}\"\n",
    "    df = df.append(globdict[list],ignore_index=True)\n",
    "    #df = df.append(list,ignore_index=True)\n",
    "\n",
    "df"
   ]
  },
  {
   "cell_type": "code",
   "execution_count": 149,
   "metadata": {},
   "outputs": [
    {
     "data": {
      "text/html": [
       "<div>\n",
       "<style scoped>\n",
       "    .dataframe tbody tr th:only-of-type {\n",
       "        vertical-align: middle;\n",
       "    }\n",
       "\n",
       "    .dataframe tbody tr th {\n",
       "        vertical-align: top;\n",
       "    }\n",
       "\n",
       "    .dataframe thead th {\n",
       "        text-align: right;\n",
       "    }\n",
       "</style>\n",
       "<table border=\"1\" class=\"dataframe\">\n",
       "  <thead>\n",
       "    <tr style=\"text-align: right;\">\n",
       "      <th></th>\n",
       "      <th>Name</th>\n",
       "      <th>last_Name</th>\n",
       "      <th>age</th>\n",
       "      <th>sex</th>\n",
       "    </tr>\n",
       "  </thead>\n",
       "  <tbody>\n",
       "    <tr>\n",
       "      <th>0</th>\n",
       "      <td>Mert</td>\n",
       "      <td>Çukadar</td>\n",
       "      <td>10</td>\n",
       "      <td>M</td>\n",
       "    </tr>\n",
       "    <tr>\n",
       "      <th>1</th>\n",
       "      <td>Zeynep</td>\n",
       "      <td>Taşkın</td>\n",
       "      <td>16</td>\n",
       "      <td>F</td>\n",
       "    </tr>\n",
       "    <tr>\n",
       "      <th>2</th>\n",
       "      <td>Drumuş</td>\n",
       "      <td>Paragöz</td>\n",
       "      <td>19</td>\n",
       "      <td>M</td>\n",
       "    </tr>\n",
       "    <tr>\n",
       "      <th>3</th>\n",
       "      <td>Kan</td>\n",
       "      <td>Küstah</td>\n",
       "      <td>49</td>\n",
       "      <td>F</td>\n",
       "    </tr>\n",
       "    <tr>\n",
       "      <th>4</th>\n",
       "      <td>Ceren</td>\n",
       "      <td>Dinç</td>\n",
       "      <td>26</td>\n",
       "      <td>F</td>\n",
       "    </tr>\n",
       "    <tr>\n",
       "      <th>5</th>\n",
       "      <td>Mert Kaan</td>\n",
       "      <td>Çukadar</td>\n",
       "      <td>22</td>\n",
       "      <td>F</td>\n",
       "    </tr>\n",
       "    <tr>\n",
       "      <th>6</th>\n",
       "      <td>Herhangi</td>\n",
       "      <td>biri</td>\n",
       "      <td>21</td>\n",
       "      <td>M</td>\n",
       "    </tr>\n",
       "  </tbody>\n",
       "</table>\n",
       "</div>"
      ],
      "text/plain": [
       "        Name last_Name  age sex\n",
       "0       Mert   Çukadar   10   M\n",
       "1     Zeynep    Taşkın   16   F\n",
       "2     Drumuş   Paragöz   19   M\n",
       "3        Kan    Küstah   49   F\n",
       "4      Ceren      Dinç   26   F\n",
       "5  Mert Kaan   Çukadar   22   F\n",
       "6   Herhangi      biri   21   M"
      ]
     },
     "execution_count": 149,
     "metadata": {},
     "output_type": "execute_result"
    }
   ],
   "source": [
    "df"
   ]
  },
  {
   "cell_type": "code",
   "execution_count": 210,
   "metadata": {},
   "outputs": [
    {
     "name": "stdout",
     "output_type": "stream",
     "text": [
      "<class 'str'>\n"
     ]
    },
    {
     "data": {
      "text/plain": [
       "['Zeynep', 'Kan']"
      ]
     },
     "execution_count": 210,
     "metadata": {},
     "output_type": "execute_result"
    }
   ],
   "source": [
    "len(df)\n",
    "value = df.Name[3]\n",
    "\n",
    "print(type(value))\n",
    "liste.append(value)\n",
    "liste"
   ]
  },
  {
   "cell_type": "code",
   "execution_count": 227,
   "metadata": {},
   "outputs": [],
   "source": [
    "def outter(args):\n",
    "    outter_list = []\n",
    "    outter_sex = []\n",
    "    for i in range (7):\n",
    "        outter_values  = args.Name[i]\n",
    "        outter_sval = args.sex[i]\n",
    "        outter_list.append(outter_values)\n",
    "        outter_sex.append(outter_sval)\n",
    "        return outter_list, outter_sex , come\n",
    "    def inner(outter_list , outter_sex):\n",
    "        for i in range (7):\n",
    "            if outter_sex[i] == \"M\":\n",
    "                come = f\"Mr. {outter_list[i]}\"\n",
    "                return come\n",
    "\n",
    "\n",
    "\n",
    "        \n",
    "    \n",
    "        \n"
   ]
  },
  {
   "cell_type": "markdown",
   "metadata": {},
   "source": [
    "---"
   ]
  },
  {
   "cell_type": "markdown",
   "metadata": {},
   "source": []
  }
 ],
 "metadata": {
  "kernelspec": {
   "display_name": "Python 3.10.6 64-bit",
   "language": "python",
   "name": "python3"
  },
  "language_info": {
   "codemirror_mode": {
    "name": "ipython",
    "version": 3
   },
   "file_extension": ".py",
   "mimetype": "text/x-python",
   "name": "python",
   "nbconvert_exporter": "python",
   "pygments_lexer": "ipython3",
   "version": "3.10.6"
  },
  "orig_nbformat": 4,
  "vscode": {
   "interpreter": {
    "hash": "aee8b7b246df8f9039afb4144a1f6fd8d2ca17a180786b69acc140d282b71a49"
   }
  }
 },
 "nbformat": 4,
 "nbformat_minor": 2
}
