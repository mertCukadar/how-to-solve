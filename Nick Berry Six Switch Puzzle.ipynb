{
 "cells": [
  {
   "cell_type": "markdown",
   "id": "a9e67e89",
   "metadata": {},
   "source": [
    "# Nick Berry Six Switch Puzzle\n",
    "\n",
    "The adventure stemmed from a case presented by the wonderful Nick Berry in his DataGenetics blog:"
   ]
  },
  {
   "cell_type": "markdown",
   "id": "73c76fdd",
   "metadata": {},
   "source": [
    "## The Question\n",
    "In summary, there are six switches numbered from 1 to 6, with each one being connected to a lamp. You roll a regular die, and toggle the switch corresponding to the roll result (if it was OFF -> ON; if it was ON -> OFF). Starting with the state where all the switches are OFF, how many, on the average, rolls are needed to lit all the lights?"
   ]
  },
  {
   "cell_type": "code",
   "execution_count": 1,
   "id": "1ddb081e",
   "metadata": {},
   "outputs": [],
   "source": [
    "import numpy as np\n",
    "import random"
   ]
  },
  {
   "cell_type": "code",
   "execution_count": 2,
   "id": "59e14f63",
   "metadata": {
    "scrolled": true
   },
   "outputs": [
    {
     "data": {
      "text/plain": [
       "True"
      ]
     },
     "execution_count": 2,
     "metadata": {},
     "output_type": "execute_result"
    }
   ],
   "source": [
    "switches = np.full((6),True)\n",
    "a = np.array([3,3,3])\n",
    "np.all(a)"
   ]
  },
  {
   "cell_type": "code",
   "execution_count": 9,
   "id": "e9f38c36",
   "metadata": {},
   "outputs": [],
   "source": [
    "def one_run():\n",
    "    counter = 0\n",
    "    switches = np.full(6,False)\n",
    "    while not np.all(switches):\n",
    "        randi = random.randint(0,5)\n",
    "        switches[randi] = not switches[randi]\n",
    "        counter += 1\n",
    "    return(counter)\n",
    "        "
   ]
  },
  {
   "cell_type": "code",
   "execution_count": 61,
   "id": "a0e9bf31",
   "metadata": {},
   "outputs": [
    {
     "data": {
      "text/plain": [
       "52"
      ]
     },
     "execution_count": 61,
     "metadata": {},
     "output_type": "execute_result"
    }
   ],
   "source": [
    "one_run()"
   ]
  },
  {
   "cell_type": "code",
   "execution_count": 82,
   "id": "79a7610d",
   "metadata": {},
   "outputs": [],
   "source": [
    "def measure_per_list(n):\n",
    "    counter_list = []\n",
    "    for i in range(n):\n",
    "        value = one_run()\n",
    "        counter_list.append(value)\n",
    "    return counter_list"
   ]
  },
  {
   "cell_type": "code",
   "execution_count": 83,
   "id": "30bc7971",
   "metadata": {},
   "outputs": [],
   "source": [
    "a = measure_per_list(10000)"
   ]
  },
  {
   "cell_type": "code",
   "execution_count": 84,
   "id": "a0a1522d",
   "metadata": {},
   "outputs": [
    {
     "data": {
      "text/plain": [
       "array([ 34,  12, 114, ...,  12,  12,  24])"
      ]
     },
     "execution_count": 84,
     "metadata": {},
     "output_type": "execute_result"
    }
   ],
   "source": [
    "np.array(a)"
   ]
  },
  {
   "cell_type": "code",
   "execution_count": 85,
   "id": "677e14f2",
   "metadata": {},
   "outputs": [
    {
     "data": {
      "text/plain": [
       "83.7526"
      ]
     },
     "execution_count": 85,
     "metadata": {},
     "output_type": "execute_result"
    }
   ],
   "source": [
    "np.mean(a)"
   ]
  }
 ],
 "metadata": {
  "kernelspec": {
   "display_name": "Python 3.10.6 64-bit",
   "language": "python",
   "name": "python3"
  },
  "language_info": {
   "codemirror_mode": {
    "name": "ipython",
    "version": 3
   },
   "file_extension": ".py",
   "mimetype": "text/x-python",
   "name": "python",
   "nbconvert_exporter": "python",
   "pygments_lexer": "ipython3",
   "version": "3.10.6"
  },
  "vscode": {
   "interpreter": {
    "hash": "aee8b7b246df8f9039afb4144a1f6fd8d2ca17a180786b69acc140d282b71a49"
   }
  }
 },
 "nbformat": 4,
 "nbformat_minor": 5
}
