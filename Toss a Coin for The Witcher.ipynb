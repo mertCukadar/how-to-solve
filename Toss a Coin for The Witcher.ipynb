{
 "cells": [
  {
   "cell_type": "markdown",
   "id": "3d532101",
   "metadata": {},
   "source": [
    "# Rescue Witcher"
   ]
  },
  {
   "cell_type": "markdown",
   "id": "e5211447",
   "metadata": {},
   "source": [
    "## Probability of getting 5 or more tails out of 8 coin tosses (Monte Carlo)"
   ]
  },
  {
   "cell_type": "code",
   "execution_count": 4,
   "id": "375f1318",
   "metadata": {},
   "outputs": [],
   "source": [
    "#first import libraries\n",
    "import pandas as pd\n",
    "import numpy as np\n",
    "import matplotlib.pyplot as plt\n",
    "import random"
   ]
  },
  {
   "cell_type": "code",
   "execution_count": 5,
   "id": "22f2b82e",
   "metadata": {},
   "outputs": [],
   "source": [
    "#create dataset randomly\n",
    "\n",
    "coin_set = []\n",
    "eight_coin = []\n",
    "def coin_toss(n,coinS,coinSS):\n",
    "    set_HT = np.array([\"H\" , \"T\"])\n",
    "    for i in range(n):\n",
    "        for i in range(0,8):\n",
    "            HT=random.choice(set_HT)\n",
    "            coinS.append(HT)\n",
    "        coinSS.append(coinS)\n",
    "        coinS = []    \n"
   ]
  },
  {
   "cell_type": "code",
   "execution_count": 6,
   "id": "c6b91c25",
   "metadata": {},
   "outputs": [],
   "source": [
    "n = 1000000\n",
    "coin_toss(n,coin_set,eight_coin)"
   ]
  },
  {
   "cell_type": "code",
   "execution_count": 7,
   "id": "41cb6281",
   "metadata": {},
   "outputs": [
    {
     "data": {
      "text/plain": [
       "(1000000, 8)"
      ]
     },
     "execution_count": 7,
     "metadata": {},
     "output_type": "execute_result"
    }
   ],
   "source": [
    "np.shape(eight_coin)"
   ]
  },
  {
   "cell_type": "code",
   "execution_count": 8,
   "id": "67ce3dc3",
   "metadata": {},
   "outputs": [
    {
     "name": "stdout",
     "output_type": "stream",
     "text": [
      "['T', 'T', 'T', 'T', 'H', 'T', 'T', 'T']\n"
     ]
    }
   ],
   "source": [
    "print(eight_coin[0])"
   ]
  },
  {
   "cell_type": "code",
   "execution_count": 9,
   "id": "a6085d19",
   "metadata": {},
   "outputs": [
    {
     "data": {
      "text/plain": [
       "7"
      ]
     },
     "execution_count": 9,
     "metadata": {},
     "output_type": "execute_result"
    }
   ],
   "source": [
    "eight_coin[0].count(\"T\")"
   ]
  },
  {
   "cell_type": "code",
   "execution_count": 14,
   "id": "3f5269e4",
   "metadata": {},
   "outputs": [
    {
     "name": "stdout",
     "output_type": "stream",
     "text": [
      "36.3283\n"
     ]
    }
   ],
   "source": [
    "# Check if T > 5 \n",
    "# And count it\n",
    "win = 0\n",
    "for i in range(0,n):\n",
    "    if eight_coin[i].count(\"T\") > 4:\n",
    "        win += 1\n",
    "    \n",
    "TT = 8*n\n",
    "\n",
    "Percentage_of_condition = win/n\n",
    "\n",
    "print(Percentage_of_condition*100)\n"
   ]
  }
 ],
 "metadata": {
  "kernelspec": {
   "display_name": "Python 3.10.6 64-bit",
   "language": "python",
   "name": "python3"
  },
  "language_info": {
   "codemirror_mode": {
    "name": "ipython",
    "version": 3
   },
   "file_extension": ".py",
   "mimetype": "text/x-python",
   "name": "python",
   "nbconvert_exporter": "python",
   "pygments_lexer": "ipython3",
   "version": "3.10.6"
  },
  "vscode": {
   "interpreter": {
    "hash": "aee8b7b246df8f9039afb4144a1f6fd8d2ca17a180786b69acc140d282b71a49"
   }
  }
 },
 "nbformat": 4,
 "nbformat_minor": 5
}
