{
 "cells": [
  {
   "cell_type": "markdown",
   "metadata": {},
   "source": [
    "# Dİce\n",
    "In this chapter we are going to practice our knowladge about baias method with severeal examples about dices."
   ]
  },
  {
   "cell_type": "markdown",
   "metadata": {},
   "source": [
    "## [Fair Dice](#Fair-Dice)"
   ]
  },
  {
   "cell_type": "code",
   "execution_count": 13,
   "metadata": {},
   "outputs": [
    {
     "name": "stdout",
     "output_type": "stream",
     "text": [
      "[1 2 3 4 5 6]\n"
     ]
    }
   ],
   "source": [
    "import numpy as np\n",
    "import matplotlib.pyplot as plt\n",
    "\n",
    "#What we will define is simly the numbers for each faces.\n",
    "\n",
    "dice_face = np.arange(1,7)\n",
    "print(f\"{dice_face}\")"
   ]
  },
  {
   "cell_type": "code",
   "execution_count": 14,
   "metadata": {},
   "outputs": [
    {
     "name": "stdout",
     "output_type": "stream",
     "text": [
      "[0.16666667 0.16666667 0.16666667 0.16666667 0.16666667 0.16666667]\n"
     ]
    }
   ],
   "source": [
    "# As we know that every probs of dices face's is one over six for each face so lets definde the probs for fair dice. \n",
    "\n",
    "prob_fair = (1/6)*np.ones(6)\n",
    "print(f\"{prob_fair}\")"
   ]
  },
  {
   "cell_type": "markdown",
   "metadata": {},
   "source": [
    "From now on let's viusilise what we expected to see. end what will be happen."
   ]
  },
  {
   "cell_type": "code",
   "execution_count": 15,
   "metadata": {},
   "outputs": [
    {
     "data": {
      "image/png": "[encoded data removed]",
      "text/plain": [
       "<Figure size 640x480 with 1 Axes>"
      ]
     },
     "metadata": {},
     "output_type": "display_data"
    }
   ],
   "source": [
    "from matplotlib.pyplot import step, yticks\n",
    "\n",
    "\n",
    "plt.bar(dice_face,prob_fair)\n",
    "plt.title(\"Dice Bar\")\n",
    "plt.xlabel(\"Faces Respec to numbers\")\n",
    "plt.ylabel(\"Probs\")\n",
    "plt.yticks(np.arange(0,1,0.4))\n",
    "plt.grid()\n",
    "plt.show()"
   ]
  },
  {
   "cell_type": "markdown",
   "metadata": {},
   "source": [
    "Avarage value defined as : $$\\mu = \\Sigma x_i \\cdot p(x_i)$$\n"
   ]
  },
  {
   "cell_type": "markdown",
   "metadata": {},
   "source": [
    "Let's define avarage function"
   ]
  },
  {
   "cell_type": "code",
   "execution_count": 16,
   "metadata": {},
   "outputs": [
    {
     "name": "stdout",
     "output_type": "stream",
     "text": [
      "3.5\n"
     ]
    }
   ],
   "source": [
    "def avarege(arg , arg2):\n",
    "    avarages = 0\n",
    "    for i in range(len(arg)):\n",
    "        avarages += arg[i] * arg2[i]\n",
    "    return avarages\n",
    "\n",
    "some = avarege(dice_face,prob_fair)\n",
    "type(some)\n",
    "print(some)"
   ]
  },
  {
   "cell_type": "markdown",
   "metadata": {},
   "source": [
    "information content incelenecek olursa çıkacak sonucu bir değerlendilrelim.\n",
    "İnformaiton content : $$-log2(px_i)$$"
   ]
  },
  {
   "cell_type": "code",
   "execution_count": 17,
   "metadata": {},
   "outputs": [],
   "source": [
    "def information_content(arg):\n",
    "    info = np.log2(1/1.6)\n",
    "    return info \n"
   ]
  },
  {
   "cell_type": "code",
   "execution_count": 18,
   "metadata": {},
   "outputs": [
    {
     "data": {
      "text/plain": [
       "-0.6780719051126377"
      ]
     },
     "execution_count": 18,
     "metadata": {},
     "output_type": "execute_result"
    }
   ],
   "source": [
    "information_content(some)"
   ]
  },
  {
   "cell_type": "markdown",
   "metadata": {},
   "source": [
    "## Entropy"
   ]
  },
  {
   "cell_type": "markdown",
   "metadata": {},
   "source": [
    "$$S(x) = \\Sigma p(x) \\cdot \\frac{1}{\\log_2(x)}$$"
   ]
  },
  {
   "cell_type": "markdown",
   "metadata": {},
   "source": [
    "we will cover this session soon with unfair dice but for now let's keep going with variance."
   ]
  },
  {
   "cell_type": "markdown",
   "metadata": {},
   "source": [
    "## Variance"
   ]
  },
  {
   "cell_type": "markdown",
   "metadata": {},
   "source": [
    "$$\\sigma^2 = \\Sigma x_i^2 p(x_i) - \\mu^2$$\n",
    "the formula above might be false due to wrong calculation you can convert it to;\n",
    "$$\\sigma^2 = \\Sigma p(x_i) \\cdot (x_i - \\mu)^2$$"
   ]
  },
  {
   "cell_type": "code",
   "execution_count": 19,
   "metadata": {},
   "outputs": [],
   "source": [
    "def variance(arg1,arg2):\n",
    "    variance_sq = 0\n",
    "    avarages = avarege(arg1,arg2)\n",
    "    print(f\"avarage value is {avarages}\")\n",
    "    for i in range(len(arg1)):\n",
    "        variance_sq += arg2[i] * (arg1[i] - avarages)**2\n",
    "    print(f\"variance is: {variance_sq} \")\n",
    "        "
   ]
  },
  {
   "cell_type": "code",
   "execution_count": 20,
   "metadata": {},
   "outputs": [
    {
     "name": "stdout",
     "output_type": "stream",
     "text": [
      "avarage value is 3.5\n",
      "variance is: 2.9166666666666665 \n"
     ]
    }
   ],
   "source": [
    "variance(dice_face,prob_fair)"
   ]
  },
  {
   "cell_type": "code",
   "execution_count": 21,
   "metadata": {},
   "outputs": [
    {
     "data": {
      "text/plain": [
       "2.9166666666666665"
      ]
     },
     "execution_count": 21,
     "metadata": {},
     "output_type": "execute_result"
    }
   ],
   "source": [
    "np.var(dice_face)"
   ]
  },
  {
   "cell_type": "markdown",
   "metadata": {},
   "source": [
    "## Make sample set with unfair dice"
   ]
  },
  {
   "cell_type": "code",
   "execution_count": 22,
   "metadata": {},
   "outputs": [
    {
     "data": {
      "text/plain": [
       "[]"
      ]
     },
     "execution_count": 22,
     "metadata": {},
     "output_type": "execute_result"
    },
    {
     "data": {
      "image/png": "[encoded data removed]",
      "text/plain": [
       "<Figure size 640x480 with 1 Axes>"
      ]
     },
     "metadata": {},
     "output_type": "display_data"
    }
   ],
   "source": [
    "## Probabilities for unfair dice accepted as;\n",
    "prob_ufd = [1/6 , 2/6 , 0 ,0 , 1/6 , 2/6]\n",
    "## plot a sample for this unfair dice it's look like...\n",
    "\n",
    "plt.bar(dice_face,prob_ufd) \n",
    "plt.plot()"
   ]
  },
  {
   "cell_type": "code",
   "execution_count": 23,
   "metadata": {},
   "outputs": [],
   "source": [
    "import random\n",
    "n = 1000\n",
    "sample = np.zeros(n)\n",
    "visualise = [1,2,2,5,6,6]\n",
    "for i in range(0,n):\n",
    "    sample[i] = visualise[random.randint(0,5)]\n"
   ]
  },
  {
   "cell_type": "code",
   "execution_count": 24,
   "metadata": {},
   "outputs": [],
   "source": [
    "sample = list(sample)\n"
   ]
  },
  {
   "cell_type": "code",
   "execution_count": 25,
   "metadata": {},
   "outputs": [],
   "source": [
    "liste =[]\n",
    "for i in range(6):\n",
    "    count_of_value = sample.count(i+1)\n",
    "    prob_ufd = count_of_value/len(sample)\n",
    "    #print(f\"{i+1}# Probabilities: {prob_ufd}\")\n",
    "    liste.append(prob_ufd)  \n",
    "\n"
   ]
  },
  {
   "cell_type": "code",
   "execution_count": 26,
   "metadata": {},
   "outputs": [],
   "source": [
    "#print(liste)\n",
    "#print(prob_ufd)"
   ]
  },
  {
   "cell_type": "code",
   "execution_count": 27,
   "metadata": {},
   "outputs": [
    {
     "data": {
      "image/png": "[encoded data removed]",
      "text/plain": [
       "<Figure size 640x480 with 1 Axes>"
      ]
     },
     "metadata": {},
     "output_type": "display_data"
    }
   ],
   "source": [
    "plt.bar(dice_face,[1/6 , 2/6 , 0 ,0 , 1/6 , 2/6])\n",
    "plt.bar(dice_face,liste,color=\"none\",edgecolor = \"red\")\n",
    "\n",
    "plt.show()"
   ]
  },
  {
   "cell_type": "code",
   "execution_count": null,
   "metadata": {},
   "outputs": [],
   "source": []
  }
 ],
 "metadata": {
  "kernelspec": {
   "display_name": "Python 3 (ipykernel)",
   "language": "python",
   "name": "python3"
  },
  "language_info": {
   "codemirror_mode": {
    "name": "ipython",
    "version": 3
   },
   "file_extension": ".py",
   "mimetype": "text/x-python",
   "name": "python",
   "nbconvert_exporter": "python",
   "pygments_lexer": "ipython3",
   "version": "3.10.6"
  },
  "vscode": {
   "interpreter": {
    "hash": "aee8b7b246df8f9039afb4144a1f6fd8d2ca17a180786b69acc140d282b71a49"
   }
  }
 },
 "nbformat": 4,
 "nbformat_minor": 2
}
